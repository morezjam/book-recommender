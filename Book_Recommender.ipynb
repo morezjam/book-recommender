{
 "cells": [
  {
   "cell_type": "code",
   "execution_count": 1,
   "metadata": {},
   "outputs": [],
   "source": [
    "import numpy as np\n",
    "import pandas as pd\n",
    "import seaborn as sb\n",
    "from surprise import Dataset\n",
    "from surprise import Reader\n",
    "import matplotlib.pyplot as plt\n",
    "from surprise import SVDpp\n",
    "from surprise import SVD\n",
    "from surprise import NMF\n",
    "from surprise import KNNBasic\n",
    "from surprise import CoClustering\n",
    "from sklearn.decomposition import PCA\n",
    "from sklearn.model_selection import cross_validate\n",
    "from surprise.model_selection import train_test_split\n",
    "from surprise import accuracy\n",
    "import gzip\n",
    "import math\n",
    "sb.set_style('white')\n",
    "%matplotlib inline"
   ]
  },
  {
   "cell_type": "code",
   "execution_count": 2,
   "metadata": {},
   "outputs": [
    {
     "data": {
      "text/html": [
       "<div>\n",
       "<style scoped>\n",
       "    .dataframe tbody tr th:only-of-type {\n",
       "        vertical-align: middle;\n",
       "    }\n",
       "\n",
       "    .dataframe tbody tr th {\n",
       "        vertical-align: top;\n",
       "    }\n",
       "\n",
       "    .dataframe thead th {\n",
       "        text-align: right;\n",
       "    }\n",
       "</style>\n",
       "<table border=\"1\" class=\"dataframe\">\n",
       "  <thead>\n",
       "    <tr style=\"text-align: right;\">\n",
       "      <th></th>\n",
       "      <th>user</th>\n",
       "      <th>item_id</th>\n",
       "      <th>rating</th>\n",
       "    </tr>\n",
       "  </thead>\n",
       "  <tbody>\n",
       "    <tr>\n",
       "      <th>0</th>\n",
       "      <td>1</td>\n",
       "      <td>6264</td>\n",
       "      <td>7</td>\n",
       "    </tr>\n",
       "    <tr>\n",
       "      <th>1</th>\n",
       "      <td>1</td>\n",
       "      <td>4350</td>\n",
       "      <td>7</td>\n",
       "    </tr>\n",
       "    <tr>\n",
       "      <th>2</th>\n",
       "      <td>1</td>\n",
       "      <td>6252</td>\n",
       "      <td>5</td>\n",
       "    </tr>\n",
       "    <tr>\n",
       "      <th>3</th>\n",
       "      <td>1</td>\n",
       "      <td>202</td>\n",
       "      <td>9</td>\n",
       "    </tr>\n",
       "    <tr>\n",
       "      <th>4</th>\n",
       "      <td>1</td>\n",
       "      <td>6266</td>\n",
       "      <td>6</td>\n",
       "    </tr>\n",
       "  </tbody>\n",
       "</table>\n",
       "</div>"
      ],
      "text/plain": [
       "   user  item_id  rating\n",
       "0     1     6264       7\n",
       "1     1     4350       7\n",
       "2     1     6252       5\n",
       "3     1      202       9\n",
       "4     1     6266       6"
      ]
     },
     "execution_count": 2,
     "metadata": {},
     "output_type": "execute_result"
    }
   ],
   "source": [
    "ratings = pd.read_csv('Data/book_ratings.csv')\n",
    "ratings.head()"
   ]
  },
  {
   "cell_type": "code",
   "execution_count": 3,
   "metadata": {},
   "outputs": [
    {
     "data": {
      "text/html": [
       "<div>\n",
       "<style scoped>\n",
       "    .dataframe tbody tr th:only-of-type {\n",
       "        vertical-align: middle;\n",
       "    }\n",
       "\n",
       "    .dataframe tbody tr th {\n",
       "        vertical-align: top;\n",
       "    }\n",
       "\n",
       "    .dataframe thead th {\n",
       "        text-align: right;\n",
       "    }\n",
       "</style>\n",
       "<table border=\"1\" class=\"dataframe\">\n",
       "  <thead>\n",
       "    <tr style=\"text-align: right;\">\n",
       "      <th></th>\n",
       "      <th>item_id</th>\n",
       "      <th>ISBN</th>\n",
       "      <th>Book-Title</th>\n",
       "      <th>Book-Author</th>\n",
       "      <th>Year-Of-Publication</th>\n",
       "      <th>Publisher</th>\n",
       "    </tr>\n",
       "  </thead>\n",
       "  <tbody>\n",
       "    <tr>\n",
       "      <th>0</th>\n",
       "      <td>1</td>\n",
       "      <td>60973129</td>\n",
       "      <td>Decision in Normandy</td>\n",
       "      <td>Carlo D'Este</td>\n",
       "      <td>1991</td>\n",
       "      <td>HarperPerennial</td>\n",
       "    </tr>\n",
       "    <tr>\n",
       "      <th>1</th>\n",
       "      <td>2</td>\n",
       "      <td>393045218</td>\n",
       "      <td>The Mummies of Urumchi</td>\n",
       "      <td>E. J. W. Barber</td>\n",
       "      <td>1999</td>\n",
       "      <td>W. W. Norton &amp;amp</td>\n",
       "    </tr>\n",
       "    <tr>\n",
       "      <th>2</th>\n",
       "      <td>3</td>\n",
       "      <td>425176428</td>\n",
       "      <td>What If?: The World's Foremost Military Histor...</td>\n",
       "      <td>Robert Cowley</td>\n",
       "      <td>2000</td>\n",
       "      <td>Berkley Publishing Group</td>\n",
       "    </tr>\n",
       "    <tr>\n",
       "      <th>3</th>\n",
       "      <td>4</td>\n",
       "      <td>452264464</td>\n",
       "      <td>Beloved (Plume Contemporary Fiction)</td>\n",
       "      <td>Toni Morrison</td>\n",
       "      <td>1994</td>\n",
       "      <td>Plume</td>\n",
       "    </tr>\n",
       "    <tr>\n",
       "      <th>4</th>\n",
       "      <td>5</td>\n",
       "      <td>609804618</td>\n",
       "      <td>Our Dumb Century: The Onion Presents 100 Years...</td>\n",
       "      <td>The Onion</td>\n",
       "      <td>1999</td>\n",
       "      <td>Three Rivers Press</td>\n",
       "    </tr>\n",
       "  </tbody>\n",
       "</table>\n",
       "</div>"
      ],
      "text/plain": [
       "   item_id       ISBN                                         Book-Title  \\\n",
       "0        1   60973129                               Decision in Normandy   \n",
       "1        2  393045218                             The Mummies of Urumchi   \n",
       "2        3  425176428  What If?: The World's Foremost Military Histor...   \n",
       "3        4  452264464               Beloved (Plume Contemporary Fiction)   \n",
       "4        5  609804618  Our Dumb Century: The Onion Presents 100 Years...   \n",
       "\n",
       "       Book-Author Year-Of-Publication                 Publisher  \n",
       "0     Carlo D'Este                1991           HarperPerennial  \n",
       "1  E. J. W. Barber                1999         W. W. Norton &amp  \n",
       "2    Robert Cowley                2000  Berkley Publishing Group  \n",
       "3    Toni Morrison                1994                     Plume  \n",
       "4        The Onion                1999        Three Rivers Press  "
      ]
     },
     "execution_count": 3,
     "metadata": {},
     "output_type": "execute_result"
    }
   ],
   "source": [
    "books = pd.read_csv('Data/item_info.csv')\n",
    "books = books[['item_id','ISBN', 'Book-Title', 'Book-Author', 'Year-Of-Publication', 'Publisher']]\n",
    "books.head()"
   ]
  },
  {
   "cell_type": "code",
   "execution_count": 4,
   "metadata": {},
   "outputs": [
    {
     "data": {
      "text/html": [
       "<div>\n",
       "<style scoped>\n",
       "    .dataframe tbody tr th:only-of-type {\n",
       "        vertical-align: middle;\n",
       "    }\n",
       "\n",
       "    .dataframe tbody tr th {\n",
       "        vertical-align: top;\n",
       "    }\n",
       "\n",
       "    .dataframe thead th {\n",
       "        text-align: right;\n",
       "    }\n",
       "</style>\n",
       "<table border=\"1\" class=\"dataframe\">\n",
       "  <thead>\n",
       "    <tr style=\"text-align: right;\">\n",
       "      <th></th>\n",
       "      <th>user</th>\n",
       "      <th>item_id</th>\n",
       "      <th>rating</th>\n",
       "      <th>ISBN</th>\n",
       "      <th>Book-Title</th>\n",
       "      <th>Book-Author</th>\n",
       "      <th>Year-Of-Publication</th>\n",
       "      <th>Publisher</th>\n",
       "    </tr>\n",
       "  </thead>\n",
       "  <tbody>\n",
       "    <tr>\n",
       "      <th>0</th>\n",
       "      <td>1</td>\n",
       "      <td>6264</td>\n",
       "      <td>7</td>\n",
       "      <td>553280325</td>\n",
       "      <td>Something Wicked This Way Comes</td>\n",
       "      <td>Ray Bradbury</td>\n",
       "      <td>1983</td>\n",
       "      <td>Bantam</td>\n",
       "    </tr>\n",
       "    <tr>\n",
       "      <th>1</th>\n",
       "      <td>496</td>\n",
       "      <td>6264</td>\n",
       "      <td>8</td>\n",
       "      <td>553280325</td>\n",
       "      <td>Something Wicked This Way Comes</td>\n",
       "      <td>Ray Bradbury</td>\n",
       "      <td>1983</td>\n",
       "      <td>Bantam</td>\n",
       "    </tr>\n",
       "    <tr>\n",
       "      <th>2</th>\n",
       "      <td>676</td>\n",
       "      <td>6264</td>\n",
       "      <td>10</td>\n",
       "      <td>553280325</td>\n",
       "      <td>Something Wicked This Way Comes</td>\n",
       "      <td>Ray Bradbury</td>\n",
       "      <td>1983</td>\n",
       "      <td>Bantam</td>\n",
       "    </tr>\n",
       "    <tr>\n",
       "      <th>3</th>\n",
       "      <td>1842</td>\n",
       "      <td>6264</td>\n",
       "      <td>10</td>\n",
       "      <td>553280325</td>\n",
       "      <td>Something Wicked This Way Comes</td>\n",
       "      <td>Ray Bradbury</td>\n",
       "      <td>1983</td>\n",
       "      <td>Bantam</td>\n",
       "    </tr>\n",
       "    <tr>\n",
       "      <th>4</th>\n",
       "      <td>1</td>\n",
       "      <td>4350</td>\n",
       "      <td>7</td>\n",
       "      <td>345441184</td>\n",
       "      <td>The Mists of Avalon</td>\n",
       "      <td>MARION ZIMMER BRADLEY</td>\n",
       "      <td>2000</td>\n",
       "      <td>Del Rey</td>\n",
       "    </tr>\n",
       "  </tbody>\n",
       "</table>\n",
       "</div>"
      ],
      "text/plain": [
       "   user  item_id  rating       ISBN                       Book-Title  \\\n",
       "0     1     6264       7  553280325  Something Wicked This Way Comes   \n",
       "1   496     6264       8  553280325  Something Wicked This Way Comes   \n",
       "2   676     6264      10  553280325  Something Wicked This Way Comes   \n",
       "3  1842     6264      10  553280325  Something Wicked This Way Comes   \n",
       "4     1     4350       7  345441184              The Mists of Avalon   \n",
       "\n",
       "             Book-Author Year-Of-Publication Publisher  \n",
       "0           Ray Bradbury                1983    Bantam  \n",
       "1           Ray Bradbury                1983    Bantam  \n",
       "2           Ray Bradbury                1983    Bantam  \n",
       "3           Ray Bradbury                1983    Bantam  \n",
       "4  MARION ZIMMER BRADLEY                2000   Del Rey  "
      ]
     },
     "execution_count": 4,
     "metadata": {},
     "output_type": "execute_result"
    }
   ],
   "source": [
    "Data = pd.merge(ratings, books, on='item_id')\n",
    "Data.head()"
   ]
  },
  {
   "cell_type": "code",
   "execution_count": 5,
   "metadata": {},
   "outputs": [
    {
     "name": "stdout",
     "output_type": "stream",
     "text": [
      "# of items :  62656\n",
      "# of user :  62656\n",
      "Mean of Ratings :  7.9536995658835545\n"
     ]
    }
   ],
   "source": [
    "print('# of items : ', Data.item_id.count())\n",
    "print('# of user : ', Data.user.count())\n",
    "print('Mean of Ratings : ', Data.rating.mean())"
   ]
  },
  {
   "cell_type": "code",
   "execution_count": 6,
   "metadata": {},
   "outputs": [
    {
     "data": {
      "text/plain": [
       "Book-Title\n",
       "Naked Justice          10.0\n",
       "Amelia Writes Again    10.0\n",
       "Vuelo Del Cisne        10.0\n",
       "The Rain Catchers      10.0\n",
       "Cool Shade             10.0\n",
       "Name: rating, dtype: float64"
      ]
     },
     "execution_count": 6,
     "metadata": {},
     "output_type": "execute_result"
    }
   ],
   "source": [
    "Data.groupby('Book-Title')['rating'].mean().sort_values(ascending = False).head()"
   ]
  },
  {
   "cell_type": "code",
   "execution_count": 7,
   "metadata": {
    "scrolled": true
   },
   "outputs": [
    {
     "data": {
      "text/plain": [
       "Book-Title\n",
       "Impossible Vacation                                                         160\n",
       "The Rescue                                                                  145\n",
       "Airframe                                                                    118\n",
       "Tycoon'S Temptation (Silhouette Desire, No. 1414)                            89\n",
       "Past Lives, Present Dreams: How to Use Reincarnation for Personal Growth     88\n",
       "The Queen of the Damned (Vampire Chronicles (Paperback))                     86\n",
       "Harry Potter and the Chamber of Secrets (Book 2)                             79\n",
       "The Right Hand of Amon                                                       79\n",
       "She's Come Undone (Oprah's Book Club (Paperback))                            77\n",
       "The Deal                                                                     77\n",
       "Name: rating, dtype: int64"
      ]
     },
     "execution_count": 7,
     "metadata": {},
     "output_type": "execute_result"
    }
   ],
   "source": [
    "Data.groupby('Book-Title')['rating'].count().sort_values(ascending = False).head(10)"
   ]
  },
  {
   "cell_type": "code",
   "execution_count": 8,
   "metadata": {},
   "outputs": [
    {
     "data": {
      "image/png": "[encoded data removed]",
      "text/plain": [
       "<Figure size 720x360 with 1 Axes>"
      ]
     },
     "metadata": {
      "needs_background": "light"
     },
     "output_type": "display_data"
    }
   ],
   "source": [
    "rs = pd.DataFrame(Data.groupby('Book-Title')['rating'].mean())\n",
    "rs['num_ratings'] = Data.groupby('Book-Title')['rating'].count()\n",
    "plt.figure(figsize=(10,5))\n",
    "rs.num_ratings.hist(bins=70)\n",
    "plt.show()"
   ]
  },
  {
   "cell_type": "code",
   "execution_count": 9,
   "metadata": {},
   "outputs": [
    {
     "data": {
      "image/png": "[encoded data removed]",
      "text/plain": [
       "<Figure size 720x360 with 1 Axes>"
      ]
     },
     "metadata": {
      "needs_background": "light"
     },
     "output_type": "display_data"
    }
   ],
   "source": [
    "plt.figure(figsize=(10,5))\n",
    "rs.rating.hist(bins=70)\n",
    "plt.show()"
   ]
  },
  {
   "cell_type": "code",
   "execution_count": 10,
   "metadata": {},
   "outputs": [],
   "source": [
    "d = Data[['item_id', 'user', 'rating']]\n",
    "reader = Reader(rating_scale = (1,10))\n",
    "data = Dataset.load_from_df(d, reader)\n",
    "train , test = train_test_split(data,test_size = 0.2)"
   ]
  },
  {
   "cell_type": "code",
   "execution_count": 11,
   "metadata": {},
   "outputs": [
    {
     "name": "stdout",
     "output_type": "stream",
     "text": [
      "Computing the msd similarity matrix...\n",
      "Done computing similarity matrix.\n",
      "RMSE: 1.4657\n",
      "RMSE: 1.4816\n",
      "RMSE: 1.6456\n",
      "MAE:  1.1130\n",
      "MAE:  1.1280\n",
      "MAE:  1.1920\n"
     ]
    },
    {
     "data": {
      "text/plain": [
       "1.1919964256759767"
      ]
     },
     "execution_count": 11,
     "metadata": {},
     "output_type": "execute_result"
    }
   ],
   "source": [
    "algorithm1 = SVDpp(n_factors = 20, n_epochs= 20,lr_all=0.01,init_std_dev= 0.005,verbose=False, reg_all=0.01)\n",
    "algorithm2 = SVD(n_factors = 20, n_epochs= 20,lr_all=0.01,init_std_dev= 0.005,verbose=False, reg_all=0.01)\n",
    "algorithm3 = KNNBasic()\n",
    "algorithm1.fit(train)\n",
    "algorithm2.fit(train)\n",
    "algorithm3.fit(train)\n",
    "pred1 = algorithm1.test(test)\n",
    "pred2 = algorithm2.test(test)\n",
    "pred3 = algorithm3.test(test)\n",
    "accuracy.rmse(pred1)\n",
    "accuracy.rmse(pred2)\n",
    "accuracy.rmse(pred3)\n",
    "accuracy.mae(pred1)\n",
    "accuracy.mae(pred2)\n",
    "accuracy.mae(pred3)"
   ]
  },
  {
   "cell_type": "code",
   "execution_count": 12,
   "metadata": {},
   "outputs": [],
   "source": [
    "real_rating=[]\n",
    "pred_rating=[]\n",
    "real_rating2=[]\n",
    "pred_rating2=[]\n",
    "real_rating3=[]\n",
    "pred_rating3=[]\n",
    "for i in pred1:\n",
    "    pui = pred1.pop()\n",
    "    real_rating.append(pui.r_ui)\n",
    "    pred_rating.append(pui.est)\n",
    "for i in pred2:\n",
    "    pui2 = pred2.pop()\n",
    "    real_rating2.append(pui2.r_ui)\n",
    "    pred_rating2.append(pui2.est)\n",
    "for i in pred3:\n",
    "    pui3 = pred3.pop()\n",
    "    real_rating3.append(pui3.r_ui)\n",
    "    pred_rating3.append(pui3.est)"
   ]
  },
  {
   "cell_type": "code",
   "execution_count": 13,
   "metadata": {},
   "outputs": [
    {
     "data": {
      "image/png": "[encoded data removed]",
      "text/plain": [
       "<Figure size 1440x360 with 2 Axes>"
      ]
     },
     "metadata": {
      "needs_background": "light"
     },
     "output_type": "display_data"
    }
   ],
   "source": [
    "ratings_frame = pd.DataFrame({'Real_rating':real_rating,'Predicted_rating':pred_rating})\n",
    "ratings_frame3 = pd.DataFrame({'Real_rating':real_rating3,'Predicted_rating':pred_rating3})\n",
    "error = (abs((ratings_frame['Real_rating'] - ratings_frame['Predicted_rating'])) / ratings_frame['Real_rating'])*1e2\n",
    "error3 = (abs((ratings_frame3['Real_rating'] - ratings_frame3['Predicted_rating'])) / ratings_frame3['Real_rating'])*1e2\n",
    "fig, axes = plt.subplots(1,2,figsize=(20,5))\n",
    "axes[0].hist(error,bins=[i/100 for i in range(3,100)])\n",
    "axes[1].hist(error3,bins=[i/100 for i in range(3,100)], color = 'r')\n",
    "plt.show()\n",
    "fig.savefig('Book-Crossing.jpg', dpi=900)"
   ]
  },
  {
   "cell_type": "code",
   "execution_count": 14,
   "metadata": {},
   "outputs": [
    {
     "data": {
      "text/html": [
       "<div>\n",
       "<style scoped>\n",
       "    .dataframe tbody tr th:only-of-type {\n",
       "        vertical-align: middle;\n",
       "    }\n",
       "\n",
       "    .dataframe tbody tr th {\n",
       "        vertical-align: top;\n",
       "    }\n",
       "\n",
       "    .dataframe thead th {\n",
       "        text-align: right;\n",
       "    }\n",
       "</style>\n",
       "<table border=\"1\" class=\"dataframe\">\n",
       "  <thead>\n",
       "    <tr style=\"text-align: right;\">\n",
       "      <th></th>\n",
       "      <th>Title</th>\n",
       "      <th>ID</th>\n",
       "    </tr>\n",
       "  </thead>\n",
       "  <tbody>\n",
       "    <tr>\n",
       "      <th>0</th>\n",
       "      <td>The Subtle Knife (His Dark Materials, Book 2)</td>\n",
       "      <td>1003</td>\n",
       "    </tr>\n",
       "    <tr>\n",
       "      <th>1</th>\n",
       "      <td>The 10th Kingdom (Hallmark Entertainment Books)</td>\n",
       "      <td>1614</td>\n",
       "    </tr>\n",
       "    <tr>\n",
       "      <th>2</th>\n",
       "      <td>Martian Chronicles</td>\n",
       "      <td>154</td>\n",
       "    </tr>\n",
       "    <tr>\n",
       "      <th>3</th>\n",
       "      <td>Brave New World</td>\n",
       "      <td>1180</td>\n",
       "    </tr>\n",
       "    <tr>\n",
       "      <th>4</th>\n",
       "      <td>Sideways Stories from Wayside School</td>\n",
       "      <td>965</td>\n",
       "    </tr>\n",
       "    <tr>\n",
       "      <th>5</th>\n",
       "      <td>Skipping Christmas</td>\n",
       "      <td>2155</td>\n",
       "    </tr>\n",
       "    <tr>\n",
       "      <th>6</th>\n",
       "      <td>Just Here Trying to Save a Few Lives : Tales o...</td>\n",
       "      <td>786</td>\n",
       "    </tr>\n",
       "    <tr>\n",
       "      <th>7</th>\n",
       "      <td>The Mists of Avalon</td>\n",
       "      <td>2475</td>\n",
       "    </tr>\n",
       "    <tr>\n",
       "      <th>8</th>\n",
       "      <td>Stone Butch Blues</td>\n",
       "      <td>2736</td>\n",
       "    </tr>\n",
       "    <tr>\n",
       "      <th>9</th>\n",
       "      <td>Love Always Remembers: A Book of Poems</td>\n",
       "      <td>2642</td>\n",
       "    </tr>\n",
       "    <tr>\n",
       "      <th>10</th>\n",
       "      <td>Daddy's Little Girl</td>\n",
       "      <td>586</td>\n",
       "    </tr>\n",
       "    <tr>\n",
       "      <th>11</th>\n",
       "      <td>The Palace Thief</td>\n",
       "      <td>673</td>\n",
       "    </tr>\n",
       "    <tr>\n",
       "      <th>12</th>\n",
       "      <td>Bitter Sweet</td>\n",
       "      <td>1806</td>\n",
       "    </tr>\n",
       "    <tr>\n",
       "      <th>13</th>\n",
       "      <td>Barrel Fever : Stories and Essays (Barrel Fever)</td>\n",
       "      <td>2490</td>\n",
       "    </tr>\n",
       "    <tr>\n",
       "      <th>14</th>\n",
       "      <td>A Coral Kiss</td>\n",
       "      <td>295</td>\n",
       "    </tr>\n",
       "    <tr>\n",
       "      <th>15</th>\n",
       "      <td>What a Wonderful World: A Lifetime of Recordings</td>\n",
       "      <td>1883</td>\n",
       "    </tr>\n",
       "    <tr>\n",
       "      <th>16</th>\n",
       "      <td>Mama Makes Up Her Mind: And Other Dangers of S...</td>\n",
       "      <td>1969</td>\n",
       "    </tr>\n",
       "    <tr>\n",
       "      <th>17</th>\n",
       "      <td>Impossible Vacation</td>\n",
       "      <td>1154</td>\n",
       "    </tr>\n",
       "    <tr>\n",
       "      <th>18</th>\n",
       "      <td>The Two Towers (The Lord of the Rings, Part 2)</td>\n",
       "      <td>1036</td>\n",
       "    </tr>\n",
       "    <tr>\n",
       "      <th>19</th>\n",
       "      <td>All of Me: A Voluptuous Tale</td>\n",
       "      <td>425</td>\n",
       "    </tr>\n",
       "    <tr>\n",
       "      <th>20</th>\n",
       "      <td>Expiration Date (Men at Work)</td>\n",
       "      <td>2477</td>\n",
       "    </tr>\n",
       "    <tr>\n",
       "      <th>21</th>\n",
       "      <td>Wilderness Tips</td>\n",
       "      <td>1276</td>\n",
       "    </tr>\n",
       "    <tr>\n",
       "      <th>22</th>\n",
       "      <td>The Carousel : A Novel</td>\n",
       "      <td>2779</td>\n",
       "    </tr>\n",
       "    <tr>\n",
       "      <th>23</th>\n",
       "      <td>Saving Private Ryan: A Novel</td>\n",
       "      <td>1641</td>\n",
       "    </tr>\n",
       "    <tr>\n",
       "      <th>24</th>\n",
       "      <td>To Marry McAllister  (Bachelor Cousins) (Harle...</td>\n",
       "      <td>2376</td>\n",
       "    </tr>\n",
       "    <tr>\n",
       "      <th>25</th>\n",
       "      <td>El Senor De Los Anillos: LA Comunidad Del Anil...</td>\n",
       "      <td>123</td>\n",
       "    </tr>\n",
       "    <tr>\n",
       "      <th>26</th>\n",
       "      <td>Something Wicked This Way Comes</td>\n",
       "      <td>63</td>\n",
       "    </tr>\n",
       "    <tr>\n",
       "      <th>27</th>\n",
       "      <td>A Walk in the Woods: Rediscovering America on ...</td>\n",
       "      <td>2291</td>\n",
       "    </tr>\n",
       "    <tr>\n",
       "      <th>28</th>\n",
       "      <td>Phantom</td>\n",
       "      <td>209</td>\n",
       "    </tr>\n",
       "    <tr>\n",
       "      <th>29</th>\n",
       "      <td>Private Screening</td>\n",
       "      <td>681</td>\n",
       "    </tr>\n",
       "    <tr>\n",
       "      <th>30</th>\n",
       "      <td>Chocolat</td>\n",
       "      <td>756</td>\n",
       "    </tr>\n",
       "    <tr>\n",
       "      <th>31</th>\n",
       "      <td>Sacred Sins</td>\n",
       "      <td>1188</td>\n",
       "    </tr>\n",
       "    <tr>\n",
       "      <th>32</th>\n",
       "      <td>Great Expectations (Dover Thrift Editions)</td>\n",
       "      <td>2822</td>\n",
       "    </tr>\n",
       "    <tr>\n",
       "      <th>33</th>\n",
       "      <td>The Rescue</td>\n",
       "      <td>2076</td>\n",
       "    </tr>\n",
       "    <tr>\n",
       "      <th>34</th>\n",
       "      <td>Into the Green</td>\n",
       "      <td>1884</td>\n",
       "    </tr>\n",
       "    <tr>\n",
       "      <th>35</th>\n",
       "      <td>Mama Day (Vintage Contemporaries)</td>\n",
       "      <td>2221</td>\n",
       "    </tr>\n",
       "    <tr>\n",
       "      <th>36</th>\n",
       "      <td>Falling Leaves: The True Story of an Unwanted ...</td>\n",
       "      <td>1146</td>\n",
       "    </tr>\n",
       "    <tr>\n",
       "      <th>37</th>\n",
       "      <td>Harry Potter and the Chamber of Secrets (Book 2)</td>\n",
       "      <td>69</td>\n",
       "    </tr>\n",
       "    <tr>\n",
       "      <th>38</th>\n",
       "      <td>Canine Crimes</td>\n",
       "      <td>2895</td>\n",
       "    </tr>\n",
       "    <tr>\n",
       "      <th>39</th>\n",
       "      <td>Distraction: A Novel</td>\n",
       "      <td>1051</td>\n",
       "    </tr>\n",
       "    <tr>\n",
       "      <th>40</th>\n",
       "      <td>He Sees You When You're Sleeping : A Novel</td>\n",
       "      <td>2551</td>\n",
       "    </tr>\n",
       "    <tr>\n",
       "      <th>41</th>\n",
       "      <td>Silverlight: The Arcana, Book II (Arcana/Morga...</td>\n",
       "      <td>1646</td>\n",
       "    </tr>\n",
       "    <tr>\n",
       "      <th>42</th>\n",
       "      <td>An Arrow's Flight</td>\n",
       "      <td>539</td>\n",
       "    </tr>\n",
       "    <tr>\n",
       "      <th>43</th>\n",
       "      <td>Nobody's Perfect: Selected Writings from the N...</td>\n",
       "      <td>369</td>\n",
       "    </tr>\n",
       "    <tr>\n",
       "      <th>44</th>\n",
       "      <td>Family Honor</td>\n",
       "      <td>2864</td>\n",
       "    </tr>\n",
       "    <tr>\n",
       "      <th>45</th>\n",
       "      <td>Little Women (Signet Classic)</td>\n",
       "      <td>301</td>\n",
       "    </tr>\n",
       "    <tr>\n",
       "      <th>46</th>\n",
       "      <td>Deadly Decisions</td>\n",
       "      <td>555</td>\n",
       "    </tr>\n",
       "    <tr>\n",
       "      <th>47</th>\n",
       "      <td>Quest of the Seventh Carrier</td>\n",
       "      <td>2099</td>\n",
       "    </tr>\n",
       "  </tbody>\n",
       "</table>\n",
       "</div>"
      ],
      "text/plain": [
       "                                                Title    ID\n",
       "0       The Subtle Knife (His Dark Materials, Book 2)  1003\n",
       "1     The 10th Kingdom (Hallmark Entertainment Books)  1614\n",
       "2                                  Martian Chronicles   154\n",
       "3                                     Brave New World  1180\n",
       "4                Sideways Stories from Wayside School   965\n",
       "5                                  Skipping Christmas  2155\n",
       "6   Just Here Trying to Save a Few Lives : Tales o...   786\n",
       "7                                 The Mists of Avalon  2475\n",
       "8                                   Stone Butch Blues  2736\n",
       "9              Love Always Remembers: A Book of Poems  2642\n",
       "10                                Daddy's Little Girl   586\n",
       "11                                   The Palace Thief   673\n",
       "12                                       Bitter Sweet  1806\n",
       "13   Barrel Fever : Stories and Essays (Barrel Fever)  2490\n",
       "14                                       A Coral Kiss   295\n",
       "15   What a Wonderful World: A Lifetime of Recordings  1883\n",
       "16  Mama Makes Up Her Mind: And Other Dangers of S...  1969\n",
       "17                                Impossible Vacation  1154\n",
       "18     The Two Towers (The Lord of the Rings, Part 2)  1036\n",
       "19                       All of Me: A Voluptuous Tale   425\n",
       "20                      Expiration Date (Men at Work)  2477\n",
       "21                                    Wilderness Tips  1276\n",
       "22                             The Carousel : A Novel  2779\n",
       "23                       Saving Private Ryan: A Novel  1641\n",
       "24  To Marry McAllister  (Bachelor Cousins) (Harle...  2376\n",
       "25  El Senor De Los Anillos: LA Comunidad Del Anil...   123\n",
       "26                    Something Wicked This Way Comes    63\n",
       "27  A Walk in the Woods: Rediscovering America on ...  2291\n",
       "28                                            Phantom   209\n",
       "29                                  Private Screening   681\n",
       "30                                           Chocolat   756\n",
       "31                                        Sacred Sins  1188\n",
       "32         Great Expectations (Dover Thrift Editions)  2822\n",
       "33                                         The Rescue  2076\n",
       "34                                     Into the Green  1884\n",
       "35                  Mama Day (Vintage Contemporaries)  2221\n",
       "36  Falling Leaves: The True Story of an Unwanted ...  1146\n",
       "37   Harry Potter and the Chamber of Secrets (Book 2)    69\n",
       "38                                      Canine Crimes  2895\n",
       "39                               Distraction: A Novel  1051\n",
       "40         He Sees You When You're Sleeping : A Novel  2551\n",
       "41  Silverlight: The Arcana, Book II (Arcana/Morga...  1646\n",
       "42                                  An Arrow's Flight   539\n",
       "43  Nobody's Perfect: Selected Writings from the N...   369\n",
       "44                                       Family Honor  2864\n",
       "45                      Little Women (Signet Classic)   301\n",
       "46                                   Deadly Decisions   555\n",
       "47                       Quest of the Seventh Carrier  2099"
      ]
     },
     "execution_count": 14,
     "metadata": {},
     "output_type": "execute_result"
    }
   ],
   "source": [
    "d = pd.DataFrame(pred1, columns = ['user_id','item_id','real_ui','estimated_value','details'])\n",
    "ranking = d.groupby('item_id')['estimated_value'].count().sort_values(ascending = False)\n",
    "item_id = ranking.index\n",
    "Data_to_np = Data.to_numpy()\n",
    "Book_titles = []\n",
    "for i in range(0,len(item_id)):\n",
    "    Data_to_np[i,1] == item_id[i]\n",
    "    Book_titles.append(Data_to_np[i,4])\n",
    "\n",
    "Book_titles = list(set(Book_titles))\n",
    "final = np.zeros((48,2), dtype = object)\n",
    "for i in range(0, len(final)):\n",
    "    final[i,0] = Book_titles[i]\n",
    "    final[i,1] = item_id[i]\n",
    "final = pd.DataFrame(final, columns=['Title', 'ID'])\n",
    "final"
   ]
  },
  {
   "cell_type": "code",
   "execution_count": 15,
   "metadata": {},
   "outputs": [],
   "source": [
    "def parse(path):\n",
    "    g = gzip.open(path, 'r')\n",
    "    false = False\n",
    "    true = True\n",
    "    for l in g:\n",
    "        yield eval (l)\n",
    "def gen_toNumpy(gen):\n",
    "    data = np.zeros((100000,5),dtype = object)\n",
    "    for i in range(0,len(data)):\n",
    "        for j in range(0,len(data[0])):\n",
    "            r = next(gen)\n",
    "            d = np.array(list(r.values()))\n",
    "            data[i,j] = d[j]\n",
    "    return data\n",
    "good_reads = parse('Data/goodreads.gz')\n",
    "d = gen_toNumpy(good_reads)"
   ]
  },
  {
   "cell_type": "code",
   "execution_count": 16,
   "metadata": {},
   "outputs": [
    {
     "name": "stderr",
     "output_type": "stream",
     "text": [
      "<ipython-input-16-4323406ac0c1>:1: DeprecationWarning: `np.int` is a deprecated alias for the builtin `int`. To silence this warning, use `int` by itself. Doing this will not modify any behavior and is safe. When replacing `np.int`, you may wish to use e.g. `np.int64` or `np.int32` to specify the precision. If you wish to review your current use, check the release note link for additional information.\n",
      "Deprecated in NumPy 1.20; for more details and guidance: https://numpy.org/devdocs/release/1.20.0-notes.html#deprecations\n",
      "  d[:,4] = d[:,4].astype(np.int)\n"
     ]
    }
   ],
   "source": [
    "d[:,4] = d[:,4].astype(np.int)\n",
    "DataCsv = np.zeros((len(d),len(d[0])), dtype = object)\n",
    "for i in range(0,len(DataCsv)):\n",
    "    if d[i,4] != 0:\n",
    "        for j in range(0,len(DataCsv[0])):\n",
    "            DataCsv[i,j] = d[i,j]\n",
    "DataCsv = DataCsv[~np.all(DataCsv==0, axis=1)]"
   ]
  },
  {
   "cell_type": "code",
   "execution_count": 17,
   "metadata": {},
   "outputs": [],
   "source": [
    "dt = pd.read_csv('Data/goodreads.csv')\n",
    "dt = dt[['item_id', 'user', 'rating']]\n",
    "reader = Reader(rating_scale=(1,5))\n",
    "dt = Dataset.load_from_df(dt,reader)\n",
    "train, test = train_test_split(dt, test_size=0.2)"
   ]
  },
  {
   "cell_type": "code",
   "execution_count": 18,
   "metadata": {},
   "outputs": [
    {
     "name": "stdout",
     "output_type": "stream",
     "text": [
      "Computing the msd similarity matrix...\n",
      "Done computing similarity matrix.\n",
      "RMSE: 0.8575\n",
      "RMSE: 0.8577\n",
      "RMSE: 0.9607\n",
      "MAE:  0.6687\n",
      "MAE:  0.6688\n",
      "MAE:  0.7018\n"
     ]
    },
    {
     "data": {
      "text/plain": [
       "0.7017659611847625"
      ]
     },
     "execution_count": 18,
     "metadata": {},
     "output_type": "execute_result"
    }
   ],
   "source": [
    "algorithm1 = SVDpp(n_factors = 20, n_epochs= 20,lr_all=0.01,init_std_dev= 0.005,verbose=False, reg_all=0.01)\n",
    "algorithm2 = SVD(n_factors = 20, n_epochs= 20,lr_all=0.01,init_std_dev= 0.005,verbose=False, reg_all=0.01)\n",
    "algorithm3 = KNNBasic()\n",
    "algorithm1.fit(train)\n",
    "algorithm2.fit(train)\n",
    "algorithm3.fit(train)\n",
    "pred1 = algorithm1.test(test)\n",
    "pred2 = algorithm2.test(test)\n",
    "pred3 = algorithm3.test(test)\n",
    "accuracy.rmse(pred1)\n",
    "accuracy.rmse(pred2)\n",
    "accuracy.rmse(pred3)\n",
    "accuracy.mae(pred1)\n",
    "accuracy.mae(pred2)\n",
    "accuracy.mae(pred3)"
   ]
  },
  {
   "cell_type": "code",
   "execution_count": 19,
   "metadata": {},
   "outputs": [],
   "source": [
    "real_rating=[]\n",
    "pred_rating=[]\n",
    "real_rating2=[]\n",
    "pred_rating2=[]\n",
    "real_rating3=[]\n",
    "pred_rating3=[]\n",
    "for i in pred1:\n",
    "    pui = pred1.pop()\n",
    "    real_rating.append(pui.r_ui)\n",
    "    pred_rating.append(pui.est)\n",
    "for i in pred2:\n",
    "    pui2 = pred2.pop()\n",
    "    real_rating2.append(pui2.r_ui)\n",
    "    pred_rating2.append(pui2.est)\n",
    "for i in pred3:\n",
    "    pui3 = pred3.pop()\n",
    "    real_rating3.append(pui3.r_ui)\n",
    "    pred_rating3.append(pui3.est)"
   ]
  },
  {
   "cell_type": "code",
   "execution_count": 20,
   "metadata": {},
   "outputs": [
    {
     "data": {
      "image/png": "[encoded data removed]",
      "text/plain": [
       "<Figure size 1440x360 with 2 Axes>"
      ]
     },
     "metadata": {
      "needs_background": "light"
     },
     "output_type": "display_data"
    }
   ],
   "source": [
    "ratings_frame = pd.DataFrame({'Real_rating':real_rating,'Predicted_rating':pred_rating})\n",
    "ratings_frame3 = pd.DataFrame({'Real_rating':real_rating3,'Predicted_rating':pred_rating3})\n",
    "error = (abs((ratings_frame['Real_rating'] - ratings_frame['Predicted_rating'])) / ratings_frame['Real_rating'])*1e2\n",
    "error3 = (abs((ratings_frame3['Real_rating'] - ratings_frame3['Predicted_rating'])) / ratings_frame3['Real_rating'])*1e2\n",
    "fig, axes = plt.subplots(1,2,figsize=(20,5))\n",
    "axes[0].hist(error,bins=[i/100 for i in range(0,100)], color = 'g')\n",
    "axes[1].hist(error3,bins=[i/100 for i in range(0,100)], color = 'k')\n",
    "plt.show()\n",
    "fig.savefig('Goodreads.jpg', dpi=900)"
   ]
  },
  {
   "cell_type": "code",
   "execution_count": null,
   "metadata": {},
   "outputs": [],
   "source": []
  }
 ],
 "metadata": {
  "kernelspec": {
   "display_name": "Python 3",
   "language": "python",
   "name": "python3"
  },
  "language_info": {
   "codemirror_mode": {
    "name": "ipython",
    "version": 3
   },
   "file_extension": ".py",
   "mimetype": "text/x-python",
   "name": "python",
   "nbconvert_exporter": "python",
   "pygments_lexer": "ipython3",
   "version": "3.8.8"
  }
 },
 "nbformat": 4,
 "nbformat_minor": 2
}
